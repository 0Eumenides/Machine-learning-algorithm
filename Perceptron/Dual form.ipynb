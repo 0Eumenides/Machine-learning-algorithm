{
 "cells": [
  {
   "cell_type": "code",
   "execution_count": 45,
   "metadata": {},
   "outputs": [],
   "source": [
    "import numpy as np"
   ]
  },
  {
   "cell_type": "markdown",
   "metadata": {},
   "source": [
    "# 初始化数据"
   ]
  },
  {
   "cell_type": "code",
   "execution_count": 46,
   "metadata": {},
   "outputs": [],
   "source": [
    "training_set=np.array([[[3,3],1],[[4,3],1],[[1,1],-1]])\n",
    "a=np.zeros(len(training_set),np.float)\n",
    "b=0.0\n",
    "Gram=None\n",
    "y=np.array(training_set[:,1])\n",
    "x=np.empty((len(training_set),2),np.float)\n",
    "for i in range(len(training_set)):\n",
    "    x[i]=training_set[i][0]"
   ]
  },
  {
   "cell_type": "markdown",
   "metadata": {},
   "source": [
    "# 计算Gram矩阵"
   ]
  },
  {
   "cell_type": "code",
   "execution_count": 47,
   "metadata": {},
   "outputs": [],
   "source": [
    "def cal_gram():\n",
    "    g = np.empty((len(training_set),len(training_set)),np.int)\n",
    "    for i in range(len(training_set)):\n",
    "        for j in range(len(training_set)):\n",
    "            g[i][j]=np.dot(training_set[i][0],training_set[j][0])\n",
    "    return g"
   ]
  },
  {
   "cell_type": "markdown",
   "metadata": {},
   "source": [
    "# 检查分类错误点"
   ]
  },
  {
   "cell_type": "code",
   "execution_count": 48,
   "metadata": {},
   "outputs": [],
   "source": [
    "def check():\n",
    "    global a,b,x,y\n",
    "    flag=False\n",
    "    for i in range(len(training_set)):\n",
    "        if cal(i)<=0:\n",
    "            flag=True\n",
    "            update(i)\n",
    "    if not flag:\n",
    "        w=np.dot(a*y,x)\n",
    "        print(\"RESULT w:\"+str(w)+\" b:\" +str(b))\n",
    "        return False\n",
    "    return True"
   ]
  },
  {
   "cell_type": "markdown",
   "metadata": {},
   "source": [
    "# 计算代价函数"
   ]
  },
  {
   "cell_type": "code",
   "execution_count": 49,
   "metadata": {},
   "outputs": [],
   "source": [
    "def cal(i):\n",
    "    global a,b,x,y\n",
    "    res=np.dot(a*y,Gram[i])\n",
    "    res=(res+b)*y[i]\n",
    "    return res"
   ]
  },
  {
   "cell_type": "markdown",
   "metadata": {},
   "source": [
    "# 更新a,b"
   ]
  },
  {
   "cell_type": "code",
   "execution_count": 50,
   "metadata": {},
   "outputs": [],
   "source": [
    "def update(i):\n",
    "    global a,b\n",
    "    a[i]+=1\n",
    "    b=b+y[i]\n",
    "    print(a,b)"
   ]
  },
  {
   "cell_type": "markdown",
   "metadata": {},
   "source": [
    "# 主函数"
   ]
  },
  {
   "cell_type": "code",
   "execution_count": 51,
   "metadata": {},
   "outputs": [
    {
     "name": "stdout",
     "output_type": "stream",
     "text": [
      "[1. 0. 0.] 1.0\n",
      "[1. 0. 1.] 0.0\n",
      "[1. 0. 2.] -1.0\n",
      "[1. 0. 3.] -2.0\n",
      "[2. 0. 3.] -1.0\n",
      "[2. 0. 4.] -2.0\n",
      "[2. 0. 5.] -3.0\n",
      "RESULT w:[1.0 1.0] b:-3.0\n"
     ]
    }
   ],
   "source": [
    "if __name__==\"__main__\":\n",
    "    Gram=cal_gram()\n",
    "    for i in range(1000):\n",
    "        if not check():\n",
    "            break"
   ]
  }
 ],
 "metadata": {
  "kernelspec": {
   "display_name": "Python 3",
   "language": "python",
   "name": "python3"
  },
  "language_info": {
   "codemirror_mode": {
    "name": "ipython",
    "version": 3
   },
   "file_extension": ".py",
   "mimetype": "text/x-python",
   "name": "python",
   "nbconvert_exporter": "python",
   "pygments_lexer": "ipython3",
   "version": "3.7.3"
  }
 },
 "nbformat": 4,
 "nbformat_minor": 2
}
