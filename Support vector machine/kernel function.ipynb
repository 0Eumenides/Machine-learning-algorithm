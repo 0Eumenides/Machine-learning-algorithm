{
 "cells": [
  {
   "cell_type": "code",
   "execution_count": null,
   "metadata": {
    "colab": {},
    "colab_type": "code",
    "id": "kT4fbtJRcnPq"
   },
   "outputs": [],
   "source": [
    "from sklearn.datasets import load_breast_cancer\n",
    "from sklearn.svm import SVC\n",
    "from sklearn.model_selection import train_test_split\n",
    "import matplotlib.pyplot as plt\n",
    "import numpy as np\n",
    "from time import time\n",
    "import datetime"
   ]
  },
  {
   "cell_type": "code",
   "execution_count": null,
   "metadata": {
    "colab": {},
    "colab_type": "code",
    "id": "rB29LVdGcumc"
   },
   "outputs": [],
   "source": [
    "data = load_breast_cancer()"
   ]
  },
  {
   "cell_type": "code",
   "execution_count": null,
   "metadata": {
    "colab": {},
    "colab_type": "code",
    "id": "Dw_YKo5icz0a"
   },
   "outputs": [],
   "source": [
    "X = data.data\n",
    "y = data.target"
   ]
  },
  {
   "cell_type": "code",
   "execution_count": 4,
   "metadata": {
    "colab": {
     "base_uri": "https://localhost:8080/",
     "height": 34
    },
    "colab_type": "code",
    "executionInfo": {
     "elapsed": 1210,
     "status": "ok",
     "timestamp": 1585471706095,
     "user": {
      "displayName": "邓腾浩",
      "photoUrl": "",
      "userId": "08474177955233497174"
     },
     "user_tz": -480
    },
    "id": "pxAVG1sGc5de",
    "outputId": "dc094814-4ad7-471f-cc63-d6da9819c6d8"
   },
   "outputs": [
    {
     "data": {
      "text/plain": [
       "(569, 30)"
      ]
     },
     "execution_count": 4,
     "metadata": {
      "tags": []
     },
     "output_type": "execute_result"
    }
   ],
   "source": [
    "X.shape"
   ]
  },
  {
   "cell_type": "code",
   "execution_count": 5,
   "metadata": {
    "colab": {
     "base_uri": "https://localhost:8080/",
     "height": 34
    },
    "colab_type": "code",
    "executionInfo": {
     "elapsed": 1887,
     "status": "ok",
     "timestamp": 1585471708679,
     "user": {
      "displayName": "邓腾浩",
      "photoUrl": "",
      "userId": "08474177955233497174"
     },
     "user_tz": -480
    },
    "id": "NkNDa2wcc6aA",
    "outputId": "9fc29aad-9528-480e-edc4-6178986070b3"
   },
   "outputs": [
    {
     "data": {
      "text/plain": [
       "array([0, 1])"
      ]
     },
     "execution_count": 5,
     "metadata": {
      "tags": []
     },
     "output_type": "execute_result"
    }
   ],
   "source": [
    "np.unique(y)"
   ]
  },
  {
   "cell_type": "markdown",
   "metadata": {
    "colab_type": "text",
    "id": "Eeq-9RjSc7Wl"
   },
   "source": [
    "# 降维观察"
   ]
  },
  {
   "cell_type": "code",
   "execution_count": null,
   "metadata": {
    "colab": {},
    "colab_type": "code",
    "id": "ZjG7oHBfdAra"
   },
   "outputs": [],
   "source": [
    "from sklearn.decomposition import PCA"
   ]
  },
  {
   "cell_type": "code",
   "execution_count": null,
   "metadata": {
    "colab": {},
    "colab_type": "code",
    "id": "sg05VwHGdBuB"
   },
   "outputs": [],
   "source": [
    "X_dr = PCA(2).fit_transform(X)"
   ]
  },
  {
   "cell_type": "code",
   "execution_count": 8,
   "metadata": {
    "colab": {
     "base_uri": "https://localhost:8080/",
     "height": 34
    },
    "colab_type": "code",
    "executionInfo": {
     "elapsed": 805,
     "status": "ok",
     "timestamp": 1585471712169,
     "user": {
      "displayName": "邓腾浩",
      "photoUrl": "",
      "userId": "08474177955233497174"
     },
     "user_tz": -480
    },
    "id": "Zlujsm4cdDrc",
    "outputId": "f94aef98-193a-4a06-8733-0b92f4037b4d"
   },
   "outputs": [
    {
     "data": {
      "text/plain": [
       "(569, 2)"
      ]
     },
     "execution_count": 8,
     "metadata": {
      "tags": []
     },
     "output_type": "execute_result"
    }
   ],
   "source": [
    "X_dr.shape"
   ]
  },
  {
   "cell_type": "code",
   "execution_count": 9,
   "metadata": {
    "colab": {
     "base_uri": "https://localhost:8080/",
     "height": 268
    },
    "colab_type": "code",
    "executionInfo": {
     "elapsed": 1830,
     "status": "ok",
     "timestamp": 1585471715131,
     "user": {
      "displayName": "邓腾浩",
      "photoUrl": "",
      "userId": "08474177955233497174"
     },
     "user_tz": -480
    },
    "id": "Z7tovo_2dFAo",
    "outputId": "a855a99f-a736-4c57-b5a5-c00fe8e92ffc"
   },
   "outputs": [
    {
     "data": {
      "image/png": "[encoded data removed]",
      "text/plain": [
       "<Figure size 432x288 with 1 Axes>"
      ]
     },
     "metadata": {
      "tags": []
     },
     "output_type": "display_data"
    }
   ],
   "source": [
    "plt.scatter(X_dr[:, 0], X_dr[:, 1], c=y, cmap=\"rainbow\")\n",
    "plt.show()"
   ]
  },
  {
   "cell_type": "code",
   "execution_count": null,
   "metadata": {
    "colab": {},
    "colab_type": "code",
    "id": "OGmt4xYpdGOE"
   },
   "outputs": [],
   "source": [
    "Xtrain, Xtest, Ytrain, Ytest = train_test_split(\n",
    "    X, y, test_size=0.3, random_state=420)"
   ]
  },
  {
   "cell_type": "code",
   "execution_count": null,
   "metadata": {
    "colab": {},
    "colab_type": "code",
    "id": "Fol6d74zdHrl"
   },
   "outputs": [],
   "source": [
    "Kernel = [\"linear\", \"poly\",\"rbf\", \"sigmoid\"]"
   ]
  },
  {
   "cell_type": "code",
   "execution_count": 24,
   "metadata": {
    "colab": {
     "base_uri": "https://localhost:8080/",
     "height": 151
    },
    "colab_type": "code",
    "executionInfo": {
     "elapsed": 1510,
     "status": "ok",
     "timestamp": 1585472392880,
     "user": {
      "displayName": "邓腾浩",
      "photoUrl": "",
      "userId": "08474177955233497174"
     },
     "user_tz": -480
    },
    "id": "VKSj5EHjdJrv",
    "outputId": "34d06665-307a-415f-98cb-5a8d3437df47"
   },
   "outputs": [
    {
     "name": "stdout",
     "output_type": "stream",
     "text": [
      "The accuracy under kernel linear is 0.929825\n",
      "00:00:365404\n",
      "The accuracy under kernel poly is 0.923977\n",
      "00:00:044428\n",
      "The accuracy under kernel rbf is 0.596491\n",
      "00:00:015438\n",
      "The accuracy under kernel sigmoid is 0.596491\n",
      "00:00:007338\n"
     ]
    }
   ],
   "source": [
    "for kernel in Kernel:\n",
    "    time0 = time()\n",
    "    clf = SVC(kernel=kernel,\n",
    "              gamma=\"auto\",\n",
    "              degree = 1,\n",
    "              # 使用多大的内存来计算，单位MB\n",
    "              cache_size=5000).fit(Xtrain, Ytrain)\n",
    "    print(\"The accuracy under kernel %s is %f\" %\n",
    "          (kernel, clf.score(Xtest, Ytest)))\n",
    "    print(datetime.datetime.fromtimestamp(time()-time0).strftime(\"%M:%S:%f\"))"
   ]
  },
  {
   "cell_type": "markdown",
   "metadata": {
    "colab_type": "text",
    "id": "4XlGU6z2hMg_"
   },
   "source": [
    "# 可以发现，当`degree`等于3时，`poly`核函数跑不出结果，这是因为数据量纲不统一，且存在偏态问题"
   ]
  },
  {
   "cell_type": "code",
   "execution_count": null,
   "metadata": {
    "colab": {},
    "colab_type": "code",
    "id": "XYqod26ehjlo"
   },
   "outputs": [],
   "source": [
    "from sklearn.preprocessing import StandardScaler\n",
    "X= StandardScaler().fit_transform(X)"
   ]
  },
  {
   "cell_type": "code",
   "execution_count": 30,
   "metadata": {
    "colab": {
     "base_uri": "https://localhost:8080/",
     "height": 151
    },
    "colab_type": "code",
    "executionInfo": {
     "elapsed": 1153,
     "status": "ok",
     "timestamp": 1585472742999,
     "user": {
      "displayName": "邓腾浩",
      "photoUrl": "",
      "userId": "08474177955233497174"
     },
     "user_tz": -480
    },
    "id": "60mritshh6n_",
    "outputId": "1a2eabf4-160b-4274-fbe2-1b823a18a335"
   },
   "outputs": [
    {
     "name": "stdout",
     "output_type": "stream",
     "text": [
      "The accuracy under kernel linear is 0.976608\n",
      "00:00:006783\n",
      "The accuracy under kernel poly is 0.964912\n",
      "00:00:004586\n",
      "The accuracy under kernel rbf is 0.970760\n",
      "00:00:005578\n",
      "The accuracy under kernel sigmoid is 0.953216\n",
      "00:00:003959\n"
     ]
    }
   ],
   "source": [
    "Xtrain, Xtest, Ytrain, Ytest = train_test_split(\n",
    "    X, y, test_size=0.3, random_state=420)\n",
    "\n",
    "Kernel = [\"linear\", \"poly\",\"rbf\", \"sigmoid\"]\n",
    "\n",
    "for kernel in Kernel:\n",
    "    time0 = time()\n",
    "    clf = SVC(kernel=kernel,\n",
    "              gamma=\"auto\",\n",
    "              degree = 1,\n",
    "              # 使用多大的内存来计算，单位MB\n",
    "              cache_size=5000).fit(Xtrain, Ytrain)\n",
    "    print(\"The accuracy under kernel %s is %f\" %\n",
    "          (kernel, clf.score(Xtest, Ytest)))\n",
    "    print(datetime.datetime.fromtimestamp(time()-time0).strftime(\"%M:%S:%f\"))"
   ]
  },
  {
   "cell_type": "code",
   "execution_count": null,
   "metadata": {
    "colab": {},
    "colab_type": "code",
    "id": "WyQqnvYBiD5W"
   },
   "outputs": [],
   "source": []
  }
 ],
 "metadata": {
  "accelerator": "GPU",
  "colab": {
   "authorship_tag": "ABX9TyMTOD1UegPhX21fJgsnJ4Y6",
   "name": "探索核函数性质",
   "provenance": []
  },
  "kernelspec": {
   "display_name": "Python 3",
   "language": "python",
   "name": "python3"
  },
  "language_info": {
   "codemirror_mode": {
    "name": "ipython",
    "version": 3
   },
   "file_extension": ".py",
   "mimetype": "text/x-python",
   "name": "python",
   "nbconvert_exporter": "python",
   "pygments_lexer": "ipython3",
   "version": "3.7.2"
  }
 },
 "nbformat": 4,
 "nbformat_minor": 4
}
